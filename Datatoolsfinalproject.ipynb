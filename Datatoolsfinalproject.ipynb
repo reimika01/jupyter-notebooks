{
  "metadata": {
    "kernelspec": {
      "name": "python",
      "display_name": "Python (Pyodide)",
      "language": "python"
    },
    "language_info": {
      "codemirror_mode": {
        "name": "python",
        "version": 3
      },
      "file_extension": ".py",
      "mimetype": "text/x-python",
      "name": "python",
      "nbconvert_exporter": "python",
      "pygments_lexer": "ipython3",
      "version": "3.8"
    }
  },
  "nbformat_minor": 4,
  "nbformat": 4,
  "cells": [
    {
      "cell_type": "markdown",
      "source": "# Data Science Tools and Examples",
      "metadata": {}
    },
    {
      "cell_type": "markdown",
      "source": "## Introduction\nThis notebook provides an overview of various tools and examples used in Data Science",
      "metadata": {}
    },
    {
      "cell_type": "markdown",
      "source": "## Data Science Languages\n-Python\n-R\n-SQL\n-Julia\n-Java\n-Scala\n-MATLAB",
      "metadata": {}
    },
    {
      "cell_type": "markdown",
      "source": "## Data Science Libraries\n-Pandas\n-NumPy\n-Matplotlib\n-Seaborn\n-Scikit-learn\n-TensorFlow\n-Keras\n-Pytorch",
      "metadata": {}
    },
    {
      "cell_type": "markdown",
      "source": "## Data Science Tools\n\n|Tool      |Description|\n|---------------|--------------------------------------------|\n|Jupyter        |Interactive computing enviroment            |\n|RStudio        |IDE for R                                   |\n|Apache Hadoop  |Distributed storage and processing framework|\n|Apache Spark   |Data Processing engine                      |\n|TensorFlow     |Machine learning framework                  |\n|Tableau        |Data visualization tool                     |\n",
      "metadata": {}
    },
    {
      "cell_type": "markdown",
      "source": "## Arithmetic Expression Examples\nBelow are some examples of simple arithmentic expressions",
      "metadata": {}
    },
    {
      "cell_type": "code",
      "source": "#Multiplication and addition\na=5\nb=4\nc=7\nresult=(a*b)+c\nresult",
      "metadata": {
        "trusted": true
      },
      "outputs": [
        {
          "execution_count": 5,
          "output_type": "execute_result",
          "data": {
            "text/plain": "27"
          },
          "metadata": {}
        }
      ],
      "execution_count": 5
    },
    {
      "cell_type": "code",
      "source": "#Convert minutes to hours\nminutes=150\nhours=minutes/60\nhours",
      "metadata": {
        "trusted": true
      },
      "outputs": [
        {
          "execution_count": 6,
          "output_type": "execute_result",
          "data": {
            "text/plain": "2.5"
          },
          "metadata": {}
        }
      ],
      "execution_count": 6
    },
    {
      "cell_type": "markdown",
      "source": "## Objectives\n-Understand basic data science launguages\n-Familiarize with common data science libraries\n-Learn about various data science tools\n-Perform simple artithmetic operations in Python",
      "metadata": {}
    },
    {
      "cell_type": "markdown",
      "source": "## Author\nTamieka Reid",
      "metadata": {}
    }
  ]
}